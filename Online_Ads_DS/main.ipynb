{
 "cells": [
  {
   "cell_type": "markdown",
   "id": "0dfe22b6",
   "metadata": {},
   "source": [
    "### Initial Setup\n"
   ]
  },
  {
   "cell_type": "code",
   "execution_count": null,
   "id": "97949bd1",
   "metadata": {},
   "outputs": [],
   "source": [
    "# Importing necessary libraries\n",
    "import numpy as np\n",
    "import matplotlib.pyplot as plt\n",
    "import seaborn as sns\n",
    "import pandas as pd"
   ]
  },
  {
   "cell_type": "code",
   "execution_count": null,
   "id": "b5b40d4d",
   "metadata": {},
   "outputs": [],
   "source": [
    "# Reading the dataset\n",
    "df = pd.read_csv('online_advertising_performance_data.csv')"
   ]
  },
  {
   "cell_type": "markdown",
   "id": "65697999",
   "metadata": {},
   "source": [
    "### Data Preprocessing\n"
   ]
  },
  {
   "cell_type": "code",
   "execution_count": null,
   "id": "0a769b6f",
   "metadata": {},
   "outputs": [
    {
     "name": "stdout",
     "output_type": "stream",
     "text": [
      "(15408, 12)\n",
      "Index(['month', 'day', 'campaign_number', 'user_engagement', 'banner',\n",
      "       'placement', 'displays', 'cost', 'clicks', 'revenue',\n",
      "       'post_click_conversions', 'post_click_sales_amount'],\n",
      "      dtype='object')\n"
     ]
    }
   ],
   "source": [
    "# print(df.info())\n",
    "# print(df.describe())\n",
    "# print(df.shape)\n",
    "# print(df.columns)"
   ]
  },
  {
   "cell_type": "code",
   "execution_count": null,
   "id": "ca3914f9",
   "metadata": {},
   "outputs": [
    {
     "name": "stdout",
     "output_type": "stream",
     "text": [
      "[1 2 3]\n"
     ]
    }
   ],
   "source": [
    "# Changing the campaign_number column to just the number\n",
    "df['campaign_number'] = df['campaign_number'].str.replace('camp', '')\n",
    "df['campaign_number'] = df['campaign_number'].astype(int)\n",
    "print(df['campaign_number'].unique())"
   ]
  },
  {
   "cell_type": "code",
   "execution_count": 8,
   "id": "359e6808",
   "metadata": {},
   "outputs": [
    {
     "name": "stdout",
     "output_type": "stream",
     "text": [
      "[3 1 2]\n"
     ]
    }
   ],
   "source": [
    "\n",
    "# Changing User Engagement to numbers\n",
    "engagement_mapping = {\n",
    "    'High': 3,\n",
    "    'Medium': 2,\n",
    "    'Low': 1\n",
    "}\n",
    "df['user_engagement'] = df['user_engagement'].map(engagement_mapping)\n",
    "print(df['user_engagement'].unique())"
   ]
  },
  {
   "cell_type": "code",
   "execution_count": 9,
   "id": "2530553f",
   "metadata": {},
   "outputs": [
    {
     "name": "stdout",
     "output_type": "stream",
     "text": [
      "[0 1 2 3 4 5 6 7]\n"
     ]
    }
   ],
   "source": [
    "# Using Label Encoding for banner column\n",
    "from sklearn.preprocessing import LabelEncoder\n",
    "label_encoder = LabelEncoder()\n",
    "df['banner'] = label_encoder.fit_transform(df['banner'])\n",
    "print(df['banner'].unique())"
   ]
  },
  {
   "cell_type": "code",
   "execution_count": 10,
   "id": "be0247ff",
   "metadata": {},
   "outputs": [
    {
     "name": "stdout",
     "output_type": "stream",
     "text": [
      "[0 1 2 4 3 5]\n"
     ]
    }
   ],
   "source": [
    "# Using Label Encoding for placement column\n",
    "df['placement'] = label_encoder.fit_transform(df['placement'])\n",
    "print(df['placement'].unique())"
   ]
  },
  {
   "cell_type": "code",
   "execution_count": 11,
   "id": "3186f9b8",
   "metadata": {},
   "outputs": [
    {
     "name": "stdout",
     "output_type": "stream",
     "text": [
      "[0 2 1]\n"
     ]
    }
   ],
   "source": [
    "# Using Label Encoding for Month column\n",
    "df['month'] = label_encoder.fit_transform(df['month']) \n",
    "print(df['month'].unique())"
   ]
  },
  {
   "cell_type": "code",
   "execution_count": 15,
   "id": "9d1d3d8d",
   "metadata": {},
   "outputs": [],
   "source": [
    "# Removing the last 2 unnamed columns from the dataset\n",
    "df = df.loc[:, ~df.columns.str.contains('^Unnamed')]"
   ]
  },
  {
   "cell_type": "code",
   "execution_count": null,
   "id": "8ec62c02",
   "metadata": {},
   "outputs": [
    {
     "data": {
      "text/plain": [
       "month                      0\n",
       "day                        0\n",
       "campaign_number            0\n",
       "user_engagement            0\n",
       "banner                     0\n",
       "placement                  0\n",
       "displays                   0\n",
       "cost                       0\n",
       "clicks                     0\n",
       "revenue                    0\n",
       "post_click_conversions     0\n",
       "post_click_sales_amount    0\n",
       "dtype: int64"
      ]
     },
     "execution_count": 17,
     "metadata": {},
     "output_type": "execute_result"
    }
   ],
   "source": [
    "# Handling missing values\n",
    "df.isnull().sum()\n",
    "# As there are no missing values, we can proceed with the analysis"
   ]
  },
  {
   "cell_type": "markdown",
   "id": "e2852838",
   "metadata": {},
   "source": [
    "### Analyzing the Data\n"
   ]
  },
  {
   "cell_type": "markdown",
   "id": "cd75c453",
   "metadata": {},
   "source": [
    " What is the overall trend in user engagement throughout the campaign period?"
   ]
  },
  {
   "cell_type": "code",
   "execution_count": null,
   "id": "0dd3835a",
   "metadata": {},
   "outputs": [
    {
     "name": "stdout",
     "output_type": "stream",
     "text": [
      "Unique months: [0 2 1]\n",
      "Unique days: [ 1  2  3  4  5  6  7  8  9 10 11 12 13 14 15 16 17 18 19 20 21 22 23 24\n",
      " 25 26 27 28 29 30 31]\n"
     ]
    }
   ],
   "source": [
    "print(\"Unique months:\", df['month'].unique())\n",
    "print(\"Unique days:\", df['day'].unique())\n"
   ]
  }
 ],
 "metadata": {
  "kernelspec": {
   "display_name": "l6",
   "language": "python",
   "name": "python3"
  },
  "language_info": {
   "codemirror_mode": {
    "name": "ipython",
    "version": 3
   },
   "file_extension": ".py",
   "mimetype": "text/x-python",
   "name": "python",
   "nbconvert_exporter": "python",
   "pygments_lexer": "ipython3",
   "version": "3.13.2"
  }
 },
 "nbformat": 4,
 "nbformat_minor": 5
}
